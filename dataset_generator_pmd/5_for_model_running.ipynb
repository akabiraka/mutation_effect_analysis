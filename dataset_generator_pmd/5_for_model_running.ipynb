{
 "cells": [
  {
   "cell_type": "code",
   "execution_count": 2,
   "metadata": {},
   "outputs": [],
   "source": [
    "import os\n",
    "import sys\n",
    "module_path = os.path.abspath(os.path.join('..'))\n",
    "if module_path not in sys.path:\n",
    "    sys.path.append(module_path)\n",
    "home_dir = \"../\"\n",
    "\n",
    "import pandas as pd"
   ]
  },
  {
   "cell_type": "code",
   "execution_count": 4,
   "metadata": {},
   "outputs": [
    {
     "name": "stdout",
     "output_type": "stream",
     "text": [
      "Index(['mut_id', 'md5', 'pmd_id', 'nr', 'prot_acc_version', 'snp_id',\n",
      "       'mut_real', 'wt', 'mut', 'prot_pos', 'chrom', 'chrom_pos', 'ref_allele',\n",
      "       'alt_allele', 'function', 'source', 'crossref', 'function_summarized',\n",
      "       'class', 'seq', 'SIFT_score', 'Polyphen2_HVAR_score', 'MetaRNN_score',\n",
      "       'REVEL_score', 'MVP_score', 'CADD_raw_score',\n",
      "       'integrated_fitCons_score', 'phyloP17way_primate_score',\n",
      "       'phastCons17way_primate_score', 'bStatistic_score'],\n",
      "      dtype='object')\n",
      "(7179, 30)\n"
     ]
    },
    {
     "data": {
      "text/plain": [
       "Effect       3818\n",
       "No-effect    1777\n",
       "Knock-out    1584\n",
       "Name: class, dtype: int64"
      ]
     },
     "execution_count": 4,
     "metadata": {},
     "output_type": "execute_result"
    }
   ],
   "source": [
    "task=\"pmd\"\n",
    "result_df = pd.read_csv(home_dir+f\"models/dbnsfp/outputs_postprocessed/{task}.tsv\", sep=\"\\t\")\n",
    "print(result_df.columns)\n",
    "print(result_df.shape)\n",
    "result_df[\"class\"].value_counts()"
   ]
  },
  {
   "cell_type": "code",
   "execution_count": 7,
   "metadata": {},
   "outputs": [
    {
     "name": "stdout",
     "output_type": "stream",
     "text": [
      "Index(['mut_id', 'md5', 'pmd_id', 'nr', 'prot_acc_version', 'snp_id',\n",
      "       'mut_real', 'wt_aa_1letter', 'mt_aa_1letter', '1indexed_prot_mt_pos',\n",
      "       'chrom_num', 'chrom_pos', 'ref_allele', 'alt_allele', 'function',\n",
      "       'source', 'crossref', 'function_summarized', 'class', 'seq',\n",
      "       'SIFT_score', 'Polyphen2_HVAR_score', 'MetaRNN_score', 'REVEL_score',\n",
      "       'MVP_score', 'CADD_raw_score', 'integrated_fitCons_score',\n",
      "       'phyloP17way_primate_score', 'phastCons17way_primate_score',\n",
      "       'bStatistic_score'],\n",
      "      dtype='object')\n"
     ]
    }
   ],
   "source": [
    "col_renaming_dict = {\"prot_pos\":\"1indexed_prot_mt_pos\", \"wt\":'wt_aa_1letter', \"mut\":'mt_aa_1letter', 'chrom': \"chrom_num\"}\n",
    "result_renamed_df = result_df.rename(columns=col_renaming_dict)\n",
    "print(result_renamed_df.columns)"
   ]
  },
  {
   "cell_type": "code",
   "execution_count": 9,
   "metadata": {},
   "outputs": [
    {
     "name": "stdout",
     "output_type": "stream",
     "text": [
      "#-of sequences 2056\n"
     ]
    }
   ],
   "source": [
    "# this copy is saving for running the other methods.\n",
    "out_filepath = home_dir+f\"data/datasets_pmd/{task}_dbnsfp\"\n",
    "\n",
    "# Creating merged fasta document ...\n",
    "sequences_df = result_renamed_df[['prot_acc_version', 'crossref', 'seq']].drop_duplicates(keep=\"first\")\n",
    "print(\"#-of sequences\", sequences_df.shape[0])\n",
    "\n",
    "out_fasta_filepath = out_filepath+\".fasta\"\n",
    "out_fasta_file_handle = open(out_fasta_filepath, \"w\")\n",
    "\n",
    "for tuple in sequences_df.itertuples():\n",
    "    out_fasta_file_handle.write(f\">{tuple.prot_acc_version} | {tuple.crossref}\\n\")\n",
    "    out_fasta_file_handle.write(f\"{tuple.seq}\\n\")\n",
    "    # break\n",
    "out_fasta_file_handle.close() \n",
    "\n",
    "result_renamed_df.drop(columns=[\"seq\"], inplace=True)\n",
    "result_renamed_df.to_csv(out_filepath+\".tsv\", sep=\"\\t\", index=False)"
   ]
  }
 ],
 "metadata": {
  "kernelspec": {
   "display_name": "hopper_variant_effect_analysis_mine",
   "language": "python",
   "name": "python3"
  },
  "language_info": {
   "codemirror_mode": {
    "name": "ipython",
    "version": 3
   },
   "file_extension": ".py",
   "mimetype": "text/x-python",
   "name": "python",
   "nbconvert_exporter": "python",
   "pygments_lexer": "ipython3",
   "version": "3.8.6"
  },
  "orig_nbformat": 4
 },
 "nbformat": 4,
 "nbformat_minor": 2
}
