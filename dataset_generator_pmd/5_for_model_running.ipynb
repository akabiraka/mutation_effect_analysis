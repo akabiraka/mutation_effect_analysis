{
 "cells": [
  {
   "cell_type": "code",
   "execution_count": 1,
   "metadata": {},
   "outputs": [],
   "source": [
    "import os\n",
    "import sys\n",
    "module_path = os.path.abspath(os.path.join('..'))\n",
    "if module_path not in sys.path:\n",
    "    sys.path.append(module_path)\n",
    "home_dir = \"../\"\n",
    "\n",
    "import pandas as pd"
   ]
  },
  {
   "cell_type": "code",
   "execution_count": 2,
   "metadata": {},
   "outputs": [
    {
     "name": "stdout",
     "output_type": "stream",
     "text": [
      "Index(['mut_id', 'md5', 'pmd_id', 'nr', 'prot_acc_version', 'snp_id',\n",
      "       'mut_real', 'wt', 'mut', 'prot_pos', 'chrom', 'chrom_pos', 'ref_allele',\n",
      "       'alt_allele', 'function', 'source', 'crossref', 'function_summarized',\n",
      "       'class', 'seq', 'SIFT_score', 'Polyphen2_HVAR_score', 'MetaRNN_score',\n",
      "       'REVEL_score', 'MVP_score', 'CADD_raw_score',\n",
      "       'integrated_fitCons_score', 'phyloP17way_primate_score',\n",
      "       'phastCons17way_primate_score', 'bStatistic_score'],\n",
      "      dtype='object')\n",
      "(7179, 30)\n"
     ]
    },
    {
     "data": {
      "text/plain": [
       "Effect       3818\n",
       "No-effect    1777\n",
       "Knock-out    1584\n",
       "Name: class, dtype: int64"
      ]
     },
     "execution_count": 2,
     "metadata": {},
     "output_type": "execute_result"
    }
   ],
   "source": [
    "task=\"pmd\"\n",
    "result_df = pd.read_csv(home_dir+f\"models/dbnsfp/outputs_postprocessed/{task}.tsv\", sep=\"\\t\")\n",
    "print(result_df.columns)\n",
    "print(result_df.shape)\n",
    "result_df[\"class\"].value_counts()"
   ]
  },
  {
   "cell_type": "code",
   "execution_count": 3,
   "metadata": {},
   "outputs": [
    {
     "name": "stdout",
     "output_type": "stream",
     "text": [
      "Index(['mut_id', 'md5', 'pmd_id', 'nr', 'prot_acc_version', 'snp_id',\n",
      "       'mut_real', 'wt_aa_1letter', 'mt_aa_1letter', '1indexed_prot_mt_pos',\n",
      "       'chrom_num', 'chrom_pos', 'ref_allele', 'alt_allele', 'function',\n",
      "       'source', 'crossref', 'function_summarized', 'class', 'seq',\n",
      "       'SIFT_score', 'Polyphen2_HVAR_score', 'MetaRNN_score', 'REVEL_score',\n",
      "       'MVP_score', 'CADD_raw_score', 'integrated_fitCons_score',\n",
      "       'phyloP17way_primate_score', 'phastCons17way_primate_score',\n",
      "       'bStatistic_score'],\n",
      "      dtype='object')\n"
     ]
    }
   ],
   "source": [
    "col_renaming_dict = {\"prot_pos\":\"1indexed_prot_mt_pos\", \"wt\":'wt_aa_1letter', \"mut\":'mt_aa_1letter', 'chrom': \"chrom_num\"}\n",
    "result_renamed_df = result_df.rename(columns=col_renaming_dict)\n",
    "print(result_renamed_df.columns)"
   ]
  },
  {
   "cell_type": "code",
   "execution_count": 9,
   "metadata": {},
   "outputs": [
    {
     "name": "stdout",
     "output_type": "stream",
     "text": [
      "#-of sequences 2056\n"
     ]
    }
   ],
   "source": [
    "# this copy is saving for running the other methods.\n",
    "out_filepath = home_dir+f\"data/datasets_pmd/{task}_dbnsfp\"\n",
    "\n",
    "# Creating merged fasta document ...\n",
    "sequences_df = result_renamed_df[['prot_acc_version', 'crossref', 'seq']].drop_duplicates(keep=\"first\")\n",
    "print(\"#-of sequences\", sequences_df.shape[0])\n",
    "\n",
    "out_fasta_filepath = out_filepath+\".fasta\"\n",
    "out_fasta_file_handle = open(out_fasta_filepath, \"w\")\n",
    "\n",
    "for tuple in sequences_df.itertuples():\n",
    "    out_fasta_file_handle.write(f\">{tuple.prot_acc_version} | {tuple.crossref}\\n\")\n",
    "    out_fasta_file_handle.write(f\"{tuple.seq}\\n\")\n",
    "    # break\n",
    "out_fasta_file_handle.close() \n",
    "\n",
    "result_renamed_df.drop(columns=[\"seq\"], inplace=True)\n",
    "result_renamed_df.to_csv(out_filepath+\".tsv\", sep=\"\\t\", index=False)"
   ]
  },
  {
   "cell_type": "code",
   "execution_count": 7,
   "metadata": {},
   "outputs": [
    {
     "name": "stdout",
     "output_type": "stream",
     "text": [
      "\t#-genes\t#-proteins\t#-protein-variants\t#-genomic-variants\n",
      "Knock-out\t743\t1584\t1335\n",
      "No-effect\t622\t1777\t1659\n",
      "Effect\t1416\t3818\t3070\n",
      "total\t2056\t7179\t5652\n"
     ]
    }
   ],
   "source": [
    "\n",
    "def print_summary(df, classes):\n",
    "    print(\"\", \"#-genes\", \"#-proteins\", \"#-protein-variants\", \"#-genomic-variants\", sep=\"\\t\")\n",
    "    for cls in classes:\n",
    "        cls_df = df[df[\"class\"]==cls]\n",
    "        # n_genes = cls_df[\"gene_name\"].unique().shape[0]\n",
    "        n_prots = cls_df[\"prot_acc_version\"].unique().shape[0]\n",
    "        n_prot_variants = cls_df[['mut_id', 'md5', 'pmd_id', 'nr', 'mut_real']].shape[0] # this and the following line are same\n",
    "        n_genomic_variants = cls_df[[\"chrom_num\", \"chrom_pos\", \"ref_allele\", \"alt_allele\"]].drop_duplicates(keep=\"first\").shape[0] # these keywords are from ALFAs\n",
    "        print(cls, n_prots, n_prot_variants, n_genomic_variants, sep=\"\\t\")\n",
    "\n",
    "    # total_n_genes = df[\"gene_name\"].unique().shape[0]\n",
    "    total_n_prots = df[\"prot_acc_version\"].unique().shape[0]\n",
    "    total_n_prot_variants = df[['mut_id', 'md5', 'pmd_id', 'nr', 'mut_real']].shape[0]\n",
    "    total_n_genomic_variants = df[[\"chrom_num\", \"chrom_pos\", \"ref_allele\", \"alt_allele\"]].drop_duplicates(keep=\"first\").shape[0] # these keywords are from ALFAs\n",
    "    print(\"total\", total_n_prots, total_n_prot_variants, total_n_genomic_variants, sep=\"\\t\")\n",
    "\n",
    "print_summary(result_renamed_df, [\"Knock-out\", \"No-effect\", \"Effect\"])\n"
   ]
  },
  {
   "cell_type": "code",
   "execution_count": 12,
   "metadata": {},
   "outputs": [
    {
     "name": "stdout",
     "output_type": "stream",
     "text": [
      "\tKnock-out(743)\tNo-effect(622)\tEffect(1416)\t\n",
      "MetaRNN_score\t0/1584\t0/1777\t3/3815\t\n",
      "MVP_score\t20/1564\t48/1729\t61/3757\t\n",
      "SIFT_score\t19/1565\t29/1748\t121/3697\t\n",
      "Polyphen2_HVAR_score\t14/1570\t49/1728\t82/3736\t\n",
      "CADD_raw_score\t0/1584\t0/1777\t3/3815\t\n",
      "REVEL_score\t10/1574\t16/1761\t14/3804\t\n",
      "integrated_fitCons_score\t0/1584\t3/1774\t3/3815\t\n",
      "phyloP17way_primate_score\t0/1584\t0/1777\t0/3818\t\n",
      "phastCons17way_primate_score\t0/1584\t0/1777\t0/3818\t\n",
      "bStatistic_score\t11/1573\t4/1773\t27/3791\t\n"
     ]
    }
   ],
   "source": [
    "model_names = ['MetaRNN_score', 'MVP_score', 'SIFT_score',\n",
    "                'Polyphen2_HVAR_score', 'CADD_raw_score', 'REVEL_score',\n",
    "                'integrated_fitCons_score', 'phyloP17way_primate_score',\n",
    "                'phastCons17way_primate_score', 'bStatistic_score']\n",
    "def print_missing_things(x:pd.DataFrame, classes):\n",
    "    print(\"\\t\", end=\"\")\n",
    "    for i, cls in enumerate(classes):\n",
    "        prots = x[(x[\"class\"]==cls)][\"prot_acc_version\"].unique().shape[0]\n",
    "        print(f\"{cls}({prots})\", end=\"\\t\")\n",
    "    print()\n",
    "    for model_name in model_names:\n",
    "        print(model_name, end=\"\\t\")\n",
    "        for i, cls in enumerate(classes):\n",
    "            missing = x[(x[\"class\"]==cls) & pd.isna(x[model_name])].shape[0]\n",
    "            not_missing = x[(x[\"class\"]==cls) & ~pd.isna(x[model_name])].shape[0]\n",
    "            total = x[(x[\"class\"]==cls)].shape[0]\n",
    "            \n",
    "            print(f\"{missing}/{not_missing}\", end=\"\\t\")\n",
    "            if i==len(classes)-1: print()\n",
    "\n",
    "print_missing_things(result_renamed_df, [\"Knock-out\", \"No-effect\", \"Effect\"])"
   ]
  }
 ],
 "metadata": {
  "kernelspec": {
   "display_name": "hopper_variant_effect_analysis_mine",
   "language": "python",
   "name": "python3"
  },
  "language_info": {
   "codemirror_mode": {
    "name": "ipython",
    "version": 3
   },
   "file_extension": ".py",
   "mimetype": "text/x-python",
   "name": "python",
   "nbconvert_exporter": "python",
   "pygments_lexer": "ipython3",
   "version": "3.8.6"
  },
  "orig_nbformat": 4
 },
 "nbformat": 4,
 "nbformat_minor": 2
}
