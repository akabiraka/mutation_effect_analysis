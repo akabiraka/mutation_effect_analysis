{
 "cells": [
  {
   "cell_type": "code",
   "execution_count": 1,
   "metadata": {},
   "outputs": [],
   "source": [
    "import os\n",
    "import sys\n",
    "home_dir = \"../../\"\n",
    "module_path = os.path.abspath(os.path.join(home_dir))\n",
    "if module_path not in sys.path:\n",
    "    sys.path.append(module_path)\n",
    "\n",
    "import numpy as np\n",
    "import pandas as pd\n",
    "\n",
    "from data_loader import get_merged_scores_unidirectional_df\n",
    "from utils.data_dicts import all_method_names\n",
    "from utils.performance_metrics import *"
   ]
  },
  {
   "cell_type": "code",
   "execution_count": 14,
   "metadata": {},
   "outputs": [
    {
     "name": "stdout",
     "output_type": "stream",
     "text": [
      "Index(['mut_id', 'md5', 'pmd_id', 'nr', 'prot_acc_version', 'snp_id',\n",
      "       'mut_real', 'wt_aa_1letter', 'mt_aa_1letter', '1indexed_prot_mt_pos',\n",
      "       'chrom_num', 'chrom_pos', 'ref_allele', 'alt_allele', 'function',\n",
      "       'source', 'crossref', 'function_summarized', 'class', 'sift',\n",
      "       'polyphen2_HVAR', 'metarnn', 'revel', 'mvp', 'cadd_raw',\n",
      "       'integrated_fitCons', 'phyloP17way_primate', 'phastCons17way_primate',\n",
      "       'bStatistic', 'esm1b_t33_650M_UR50S', 'esm1v_t33_650M_UR90S',\n",
      "       'esm2_t33_650M_UR50D', 'prottrans_bert_bfd', 'prottrans_albert_bfd',\n",
      "       'plus_rnn', 'prottrans_t5_xl_u50', 'vespa', 'vespal', 'proteinbert',\n",
      "       'sequnet', 'protbert', 'unirep', 'conservation', 'SIFT', 'PolyPhen2',\n",
      "       'MetaRNN', 'Revel', 'MVP', 'CADD', 'Conservation\\n(PhastCons)', 'ESM1b',\n",
      "       'ESM1v', 'ESM2', 'Prottrans BERT', 'Prottrans T5', 'VESPA',\n",
      "       'ProteinBERT', 'Seq-Unet', 'ProtBERT', 'UniRep', 'PLUS-RNN',\n",
      "       'Conservation', 'VESPAI', 'Prottrans ALBERT', 'xId', 'UID',\n",
      "       'transcript', 'CHROM', 'POS', 'REF', 'ALT', 'aaPOS', 'protein_variant',\n",
      "       'uniqId_Tpos', 'am_pathogenicity_uniqId_Tpos'],\n",
      "      dtype='object')\n",
      "(7179, 75)\n",
      "Effect       3818\n",
      "No-effect    1777\n",
      "Knock-out    1584\n",
      "Name: class, dtype: int64\n",
      "am_pathogenicity_uniqId_Tpos\n"
     ]
    }
   ],
   "source": [
    "all_method_names = [\"am_pathogenicity_uniqId_Tpos\"] #[\"am_pathogenicity_uniqId_Cpos\", \"am_pathogenicity_uniqId_CposAA\"]\n",
    "\n",
    "task = \"pmd\"\n",
    "# result_df = get_merged_scores_unidirectional_df(task, home_dir)\n",
    "# result_df = pd.read_csv(home_dir+f\"data/merged_predictions_with_alphamissense/dfPMD_addedAM.tsv\", sep=\"\\t\") # this contains \"am_pathogenicity_uniqId_Cpos\", \"am_pathogenicity_uniqId_CposAA\"\n",
    "result_df = pd.read_csv(home_dir+f\"data/merged_predictions_with_alphamissense/dfPMD_addedAM_protUID.tsv\", sep=\"\\t\") # this contains am_pathogenicity_uniqId_Tpos\n",
    "\n",
    "print(result_df.columns)\n",
    "print(result_df.shape)\n",
    "print(result_df[\"class\"].value_counts())\n",
    "\n",
    "# Effect, Knock-out\n",
    "positive_cls, negative_cls, n_runs, n_samples = \"Effect\", \"No-effect\", 10, 1000\n",
    "\n",
    "\n",
    "performance_scores_dict = {}\n",
    "for i, method_name in enumerate(all_method_names):\n",
    "    # method_name = 'phastCons17way_primate'\n",
    "\n",
    "    performance_scores_dict[method_name] = compute_performance_metrics(result_df, method_name, positive_cls, negative_cls, n_runs, n_samples, home_dir)\n",
    "    # break\n",
    "write_metrics_outputs(performance_scores_dict, output_file=home_dir+f\"data/performance_analysis_alphamissense/{task}_{positive_cls}_vs_{negative_cls}_Tpos_only.tsv\")"
   ]
  },
  {
   "cell_type": "code",
   "execution_count": 7,
   "metadata": {},
   "outputs": [
    {
     "name": "stdout",
     "output_type": "stream",
     "text": [
      "Index(['snp_id', 'gene_name', 'mane_refseq_prot', 'mane_refseq_nuc',\n",
      "       'mane_status', 'chrom_acc_version', 'chrom_num', 'source_ref_allele',\n",
      "       'source_alt_alleles', 'alfa_chrom_pos', 'alfa_ref_allele',\n",
      "       'alfa_alt_allele', 'alfa_alt_alleles', 'prot_variant',\n",
      "       'prot_acc_version', '1indexed_prot_mt_pos', 'wt_aa', 'mt_aa',\n",
      "       'wt_aa_1letter', 'mt_aa_1letter', 'wt_population', 'mt_population',\n",
      "       'wt_freq', 'mt_freq', 'class', 'metarnn', 'mvp', 'sift',\n",
      "       'polyphen2_HVAR', 'cadd_raw', 'revel', 'integrated_fitCons',\n",
      "       'phyloP17way_primate', 'phastCons17way_primate', 'bStatistic',\n",
      "       'n_methods_having_preds', 'is_selected_prev', 'esm1b_t33_650M_UR50S',\n",
      "       'esm1v_t33_650M_UR90S', 'esm2_t33_650M_UR50D', 'prottrans_bert_bfd',\n",
      "       'prottrans_albert_bfd', 'plus_rnn', 'prottrans_t5_xl_u50', 'mut_real',\n",
      "       'vespa', 'vespal', 'proteinbert', 'sequnet', 'protbert', 'unirep',\n",
      "       'conservation', 'SIFT', 'PolyPhen2', 'MetaRNN', 'Revel', 'MVP', 'CADD',\n",
      "       'Conservation\\n(PhastCons)', 'ESM1b', 'ESM1v', 'ESM2', 'Prottrans BERT',\n",
      "       'Prottrans T5', 'VESPA', 'ProteinBERT', 'Seq-Unet', 'ProtBERT',\n",
      "       'UniRep', 'PLUS-RNN', 'Conservation', 'VESPAI', 'Prottrans ALBERT',\n",
      "       'logFreq', 'CHROM', 'POS', 'REF', 'ALT', 'aaPOS', 'transcript',\n",
      "       'protein_variant', 'uniqId_Cpos', 'uniqId_CposAA', 'uniqId_Tpos',\n",
      "       'am_pathogenicity_uniqId_Cpos', 'am_pathogenicity_uniqId_CposAA',\n",
      "       'am_pathogenicity_uniqId_Tpos'],\n",
      "      dtype='object')\n",
      "(35082, 87)\n",
      "Common        9142\n",
      "Ultra-rare    9124\n",
      "Singleton     9119\n",
      "Rare          7697\n",
      "Name: class, dtype: int64\n",
      "(18238, 87)\n",
      "Common       9119\n",
      "Singleton    9119\n",
      "Name: class, dtype: int64\n",
      "am_pathogenicity_uniqId_Cpos\n",
      "am_pathogenicity_uniqId_CposAA\n",
      "am_pathogenicity_uniqId_Tpos\n"
     ]
    }
   ],
   "source": [
    "all_method_names = [\"am_pathogenicity_uniqId_Cpos\", \"am_pathogenicity_uniqId_CposAA\", \"am_pathogenicity_uniqId_Tpos\"]\n",
    "task = \"popu_freq\"\n",
    "# result_df = get_merged_scores_unidirectional_df(task, home_dir)\n",
    "result_df = pd.read_csv(home_dir+f\"data/merged_predictions_with_alphamissense/dfPop_addedAM.tsv\", sep=\"\\t\")\n",
    "print(result_df.columns)\n",
    "print(result_df.shape)\n",
    "print(result_df[\"class\"].value_counts())\n",
    "\n",
    "# Rare, Ultra-rare, Singleton\n",
    "positive_cls, negative_cls, n_runs, n_samples = \"Singleton\", \"Common\", 1, None\n",
    "\n",
    "prots = result_df[result_df[\"class\"]==positive_cls][\"prot_acc_version\"].unique()\n",
    "\n",
    "result_df = result_df[result_df[\"prot_acc_version\"].isin(prots) & ((result_df[\"class\"]==positive_cls) | (result_df[\"class\"]==negative_cls))]\n",
    "print(result_df.shape)\n",
    "print(result_df[\"class\"].value_counts())\n",
    "\n",
    "performance_scores_dict = {}\n",
    "for i, method_name in enumerate(all_method_names):\n",
    "    performance_scores_dict[method_name] = compute_performance_metrics(result_df, method_name, positive_cls, negative_cls, n_runs, n_samples, home_dir)\n",
    "    # if i==1:break\n",
    "write_metrics_outputs(performance_scores_dict, output_file=home_dir+f\"data/performance_analysis_alphamissense/{task}_{positive_cls}_vs_{negative_cls}.tsv\")"
   ]
  },
  {
   "cell_type": "code",
   "execution_count": 2,
   "metadata": {},
   "outputs": [
    {
     "name": "stderr",
     "output_type": "stream",
     "text": [
      "/tmp/ipykernel_1376030/3973311122.py:2: DtypeWarning: Columns (13) have mixed types. Specify dtype option on import or set low_memory=False.\n",
      "  result_df = pd.read_csv(home_dir+f\"data/merged_predictions_with_alphamissense/dfPatho_addedAM.tsv\", sep=\"\\t\")\n"
     ]
    },
    {
     "name": "stdout",
     "output_type": "stream",
     "text": [
      "Index(['clinvar_id', 'gene_name', 'gene_id', 'snp_id', 'mrna_acc_version',\n",
      "       'mrna_gi', 'prot_variant', 'prot_acc_version', '1indexed_prot_mt_pos',\n",
      "       'wt_aa', 'mt_aa', 'wt_aa_1letter', 'mt_aa_1letter', 'chrom_variant',\n",
      "       'chrom_acc_version', 'chrom_num', 'chrom_pos', 'ref_allele',\n",
      "       'alt_allele', 'class', 'metarnn', 'mvp', 'sift', 'polyphen2_HVAR',\n",
      "       'cadd_raw', 'revel', 'integrated_fitCons', 'phyloP17way_primate',\n",
      "       'phastCons17way_primate', 'bStatistic', 'esm1b_t33_650M_UR50S',\n",
      "       'esm1v_t33_650M_UR90S', 'esm2_t33_650M_UR50D', 'prottrans_bert_bfd',\n",
      "       'prottrans_albert_bfd', 'plus_rnn', 'prottrans_t5_xl_u50', 'mut_real',\n",
      "       'vespa', 'vespal', 'proteinbert', 'sequnet', 'protbert', 'unirep',\n",
      "       'conservation', 'SIFT', 'PolyPhen2', 'MetaRNN', 'Revel', 'MVP', 'CADD',\n",
      "       'Conservation\\n(PhastCons)', 'ESM1b', 'ESM1v', 'ESM2', 'Prottrans BERT',\n",
      "       'Prottrans T5', 'VESPA', 'ProteinBERT', 'Seq-Unet', 'ProtBERT',\n",
      "       'UniRep', 'PLUS-RNN', 'Conservation', 'VESPAI', 'Prottrans ALBERT',\n",
      "       'CHROM', 'POS', 'REF', 'ALT', 'aaPOS', 'transcript', 'protein_variant',\n",
      "       'uniqId_Cpos', 'uniqId_CposAA', 'uniqId_Tpos',\n",
      "       'am_pathogenicity_uniqId_Cpos', 'am_pathogenicity_uniqId_CposAA',\n",
      "       'am_pathogenicity_uniqId_Tpos'],\n",
      "      dtype='object')\n",
      "(12263, 79)\n",
      "Likely-pathogenic    4804\n",
      "Rare                 3073\n",
      "Pathogenic           2499\n",
      "Common               1887\n",
      "Name: class, dtype: int64\n",
      "(8233, 79)\n",
      "Likely-pathogenic    4804\n",
      "Neutral              3429\n",
      "Name: class, dtype: int64\n",
      "am_pathogenicity_uniqId_Cpos\n",
      "am_pathogenicity_uniqId_CposAA\n",
      "am_pathogenicity_uniqId_Tpos\n"
     ]
    }
   ],
   "source": [
    "all_method_names = [\"am_pathogenicity_uniqId_Cpos\", \"am_pathogenicity_uniqId_CposAA\", \"am_pathogenicity_uniqId_Tpos\"]\n",
    "task = \"patho\"\n",
    "result_df = pd.read_csv(home_dir+f\"data/merged_predictions_with_alphamissense/dfPatho_addedAM.tsv\", sep=\"\\t\")\n",
    "print(result_df.columns)\n",
    "print(result_df.shape)\n",
    "print(result_df[\"class\"].value_counts())\n",
    "\n",
    "\n",
    "\n",
    "# Pathogenic, Likely-pathogenic\n",
    "positive_cls, negative_cls, n_runs, n_samples = \"Likely-pathogenic\", \"Neutral\", 10, 1000\n",
    "\n",
    "prots = result_df[result_df[\"class\"]==positive_cls][\"prot_acc_version\"].unique()\n",
    "\n",
    "result_df.loc[(result_df[\"class\"]==\"Common\") | (result_df[\"class\"]==\"Rare\"), \"class\"] = negative_cls # putting negative class level at Common and Rare level\n",
    "result_df = result_df[result_df[\"prot_acc_version\"].isin(prots) & ((result_df[\"class\"]==positive_cls) | (result_df[\"class\"]==negative_cls))] # taking variants for only the positive class proteins\n",
    "print(result_df.shape)\n",
    "print(result_df[\"class\"].value_counts())\n",
    "# result_df[\"esm1b_t33_650M_UR50S\"]\n",
    "performance_scores_dict = {}\n",
    "for i, method_name in enumerate(all_method_names):\n",
    "    # method_name = \"ESM1b\"\n",
    "    performance_scores_dict[method_name] = compute_performance_metrics(result_df, method_name, positive_cls, negative_cls, n_runs, n_samples, home_dir)\n",
    "    # break\n",
    "write_metrics_outputs(performance_scores_dict, output_file=home_dir+f\"data/performance_analysis_alphamissense/{task}_{positive_cls}_vs_{negative_cls}.tsv\")"
   ]
  }
 ],
 "metadata": {
  "kernelspec": {
   "display_name": "hopper_variant_effect_analysis_mine",
   "language": "python",
   "name": "python3"
  },
  "language_info": {
   "codemirror_mode": {
    "name": "ipython",
    "version": 3
   },
   "file_extension": ".py",
   "mimetype": "text/x-python",
   "name": "python",
   "nbconvert_exporter": "python",
   "pygments_lexer": "ipython3",
   "version": "3.8.6"
  },
  "orig_nbformat": 4
 },
 "nbformat": 4,
 "nbformat_minor": 2
}
