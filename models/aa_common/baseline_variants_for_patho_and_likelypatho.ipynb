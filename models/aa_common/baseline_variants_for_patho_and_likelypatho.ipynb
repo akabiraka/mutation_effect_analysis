{
 "cells": [
  {
   "cell_type": "code",
   "execution_count": 1,
   "metadata": {},
   "outputs": [],
   "source": [
    "import os\n",
    "import sys\n",
    "home_dir = \"../../\"\n",
    "module_path = os.path.abspath(os.path.join(home_dir))\n",
    "if module_path not in sys.path:\n",
    "    sys.path.append(module_path)\n",
    "\n",
    "import numpy as np\n",
    "import pandas as pd\n",
    "\n",
    "from data_loader import get_merged_scores_unidirectional_df\n",
    "from utils.data_dicts import all_method_names\n",
    "from utils.performance_metrics import *"
   ]
  },
  {
   "cell_type": "code",
   "execution_count": 4,
   "metadata": {},
   "outputs": [
    {
     "name": "stdout",
     "output_type": "stream",
     "text": [
      "Index(['clinvar_id', 'gene_name', 'gene_id', 'snp_id', 'mrna_acc_version',\n",
      "       'mrna_gi', 'prot_variant', 'prot_acc_version', '1indexed_prot_mt_pos',\n",
      "       'wt_aa', 'mt_aa', 'wt_aa_1letter', 'mt_aa_1letter', 'chrom_variant',\n",
      "       'chrom_acc_version', 'chrom_num', 'chrom_pos', 'ref_allele',\n",
      "       'alt_allele', 'class', 'metarnn', 'mvp', 'sift', 'polyphen2_HVAR',\n",
      "       'cadd_raw', 'revel', 'integrated_fitCons', 'phyloP17way_primate',\n",
      "       'phastCons17way_primate', 'bStatistic', 'esm1b_t33_650M_UR50S',\n",
      "       'esm1v_t33_650M_UR90S', 'esm2_t33_650M_UR50D', 'prottrans_bert_bfd',\n",
      "       'prottrans_albert_bfd', 'plus_rnn', 'prottrans_t5_xl_u50', 'mut_real',\n",
      "       'vespa', 'vespal', 'proteinbert', 'sequnet', 'protbert', 'unirep',\n",
      "       'conservation'],\n",
      "      dtype='object')\n",
      "(12263, 45)\n",
      "Likely-pathogenic    4804\n",
      "Rare                 3073\n",
      "Pathogenic           2499\n",
      "Common               1887\n",
      "Name: class, dtype: int64\n",
      "(8233, 45)\n",
      "Likely-pathogenic    4804\n",
      "Neutral              3429\n",
      "Name: class, dtype: int64\n"
     ]
    }
   ],
   "source": [
    "task = \"patho\"\n",
    "result_df = get_merged_scores_unidirectional_df(task, home_dir)\n",
    "\n",
    "# Pathogenic, Likely-pathogenic\n",
    "positive_cls, negative_cls, n_runs, n_samples, fill_missing_with_median = \"Likely-pathogenic\", \"Neutral\", 10, None, False\n",
    "\n",
    "prots = result_df[result_df[\"class\"]==positive_cls][\"prot_acc_version\"].unique()\n",
    "\n",
    "result_df.loc[(result_df[\"class\"]==\"Common\") | (result_df[\"class\"]==\"Rare\"), \"class\"] = negative_cls # putting negative class level at Common and Rare level\n",
    "result_df = result_df[result_df[\"prot_acc_version\"].isin(prots) & ((result_df[\"class\"]==positive_cls) | (result_df[\"class\"]==negative_cls))] # taking variants for only the positive class proteins\n",
    "print(result_df.shape)\n",
    "print(result_df[\"class\"].value_counts())"
   ]
  }
 ],
 "metadata": {
  "kernelspec": {
   "display_name": "hopper_variant_effect_analysis_mine",
   "language": "python",
   "name": "python3"
  },
  "language_info": {
   "codemirror_mode": {
    "name": "ipython",
    "version": 3
   },
   "file_extension": ".py",
   "mimetype": "text/x-python",
   "name": "python",
   "nbconvert_exporter": "python",
   "pygments_lexer": "ipython3",
   "version": "3.8.6"
  }
 },
 "nbformat": 4,
 "nbformat_minor": 2
}
