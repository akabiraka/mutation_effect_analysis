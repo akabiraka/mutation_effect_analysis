{
 "cells": [
  {
   "cell_type": "code",
   "execution_count": 1,
   "metadata": {},
   "outputs": [],
   "source": [
    "import os\n",
    "import sys\n",
    "home_dir = \"../../\"\n",
    "module_path = os.path.abspath(os.path.join(home_dir))\n",
    "if module_path not in sys.path:\n",
    "    sys.path.append(module_path)\n",
    "\n",
    "import numpy as np\n",
    "import pandas as pd"
   ]
  },
  {
   "cell_type": "code",
   "execution_count": 17,
   "metadata": {},
   "outputs": [],
   "source": [
    "renamed_cols = {'SIFT_score':'sift', 'Polyphen2_HVAR_score':'polyphen2_HVAR', 'MetaRNN_score':'metarnn', 'REVEL_score':'revel', 'MVP_score':'mvp', 'sequnet_score':'sequnet',  \n",
    "                'CADD_raw_score':'cadd_raw', 'integrated_fitCons_score':'integrated_fitCons', 'phyloP17way_primate_score':'phyloP17way_primate', 'phastCons17way_primate_score':'phastCons17way_primate', 'bStatistic_score':'bStatistic', 'conservation_score':'conservation',\n",
    "                'esm1b_t33_650M_UR50S_score':'esm1b_t33_650M_UR50S', 'esm1v_t33_650M_UR90S_score':'esm1v_t33_650M_UR90S', 'esm2_t33_650M_UR50D_score':'esm2_t33_650M_UR50D', \n",
    "                'prottrans_bert_bfd_score':'prottrans_bert_bfd', 'prottrans_t5_xl_u50_score':'prottrans_t5_xl_u50', 'vespa_score':'vespa', \n",
    "                'proteinbert_score':'proteinbert', 'protbert_score':'protbert', 'unirep_score':'unirep', 'prottrans_albert_bfd_score':'prottrans_albert_bfd',\n",
    "                'vespa_pred':'vespa', 'vespal_pred':'vespal'}\n",
    "\n",
    "masked_llm_cols = [(\"esm_rives\",\"esm1b_t33_650M_UR50S\"), (\"esm_rives\", \"esm1v_t33_650M_UR90S\"), (\"esm_rives\", \"esm2_t33_650M_UR50D\"), \n",
    "                   (\"bioembeddings_dallago\", \"prottrans_bert_bfd\"), (\"bioembeddings_dallago\", \"prottrans_albert_bfd\"), \n",
    "                   (\"rostlab_huggingface\", \"prottrans_t5_xl_u50\"), \n",
    "                   (\"vespa_marquet\", \"vespa\"), \n",
    "                   (\"proteinbert_brandes\", \"proteinbert\"), (\"sequnet_dunham\", \"sequnet\")]\n",
    "\n",
    "embeddings_llm_cols = [(\"tape_rao_1\", \"protbert\"), (\"jax_unirep\", \"unirep\")]\n",
    "\n",
    "# \"plus_rnn\""
   ]
  },
  {
   "cell_type": "code",
   "execution_count": 2,
   "metadata": {},
   "outputs": [],
   "source": [
    "# loading conservation scores for PMD sequences\n",
    "# pmd_conservation_df = pd.read_csv(home_dir+\"data/cdd_conservation/cdd_conservationTable_pmdSequences.csv.gz\", compression='gzip', comment='#')\n",
    "# pmd_conservation_df = pmd_conservation_df.drop_duplicates([\"NPid\", \"qPos\"], keep=\"first\") #qPos is 1-indexed\n",
    "# print(pmd_conservation_df.shape)\n",
    "# print(pmd_conservation_df.columns)"
   ]
  },
  {
   "cell_type": "code",
   "execution_count": 3,
   "metadata": {},
   "outputs": [],
   "source": [
    "# loading conservation scores for human-prot sequences\n",
    "# humprots_conservation_df = pd.read_csv(home_dir+\"data/cdd_conservation/cdd_conservationTable_18kHumanProts.csv.gzip\", compression='gzip', comment='#')\n",
    "# humprots_conservation_df = humprots_conservation_df.drop_duplicates([\"NPid\", \"qPos\"], keep=\"first\")\n",
    "# print(humprots_conservation_df.shape)\n",
    "# print(humprots_conservation_df.columns)"
   ]
  },
  {
   "cell_type": "code",
   "execution_count": 4,
   "metadata": {},
   "outputs": [],
   "source": [
    "# helper function to extract and merge conservation scores.\n",
    "# def merge_conservation_df(input_df, conservation_df):\n",
    "#     # merge conservation_df with the input df\n",
    "#     temp_conservation_df = conservation_df[[\"NPid\", \"qPos\", \"CScore\"]].drop_duplicates(keep=\"first\")\n",
    "#     merged_df = pd.merge(input_df, temp_conservation_df, how=\"left\", left_on=[\"prot_acc_version\", \"prot_pos\"], right_on=[\"NPid\", \"qPos\"])\n",
    "#     columns = list(input_df.columns)\n",
    "#     columns.append(\"CScore\")\n",
    "#     merged_df = merged_df[columns]\n",
    "#     merged_df = merged_df.rename(columns={\"CScore\": \"conservation_score\"})\n",
    "#     return merged_df"
   ]
  },
  {
   "cell_type": "code",
   "execution_count": 14,
   "metadata": {},
   "outputs": [],
   "source": [
    "# main function that merges all methods prediction scores.\n",
    "def do_merge(merged_df, model_root_and_name_tuple_list, merge_on_col_list, task, suffix):\n",
    "    for i, (model_root, model_name) in enumerate(model_root_and_name_tuple_list):\n",
    "        models_pred_df = pd.read_csv(home_dir+f\"models/{model_root}/outputs/{model_name}/{task}/preds_{model_name}{suffix}.tsv\", sep=\"\\t\")\n",
    "        models_pred_df = models_pred_df.drop_duplicates(keep=\"first\")\n",
    "\n",
    "        merged_df = pd.merge(left=merged_df, right=models_pred_df, how=\"left\", on=merge_on_col_list)\n",
    "        merged_df = merged_df.rename(columns={\"pred\": f\"{model_name}_score\"})\n",
    "        print(model_root, model_name, models_pred_df.shape, merged_df.shape)\n",
    "        \n",
    "        # if i==2: break\n",
    "    return merged_df"
   ]
  },
  {
   "cell_type": "code",
   "execution_count": 18,
   "metadata": {},
   "outputs": [
    {
     "name": "stdout",
     "output_type": "stream",
     "text": [
      "Index(['snp_id', 'gene_name', 'mane_refseq_prot', 'mane_refseq_nuc',\n",
      "       'mane_status', 'chrom_acc_version', 'chrom_num', 'source_ref_allele',\n",
      "       'source_alt_alleles', 'alfa_chrom_pos', 'alfa_ref_allele',\n",
      "       'alfa_alt_allele', 'alfa_alt_alleles', 'prot_variant',\n",
      "       'prot_acc_version', '1indexed_prot_mt_pos', 'wt_aa', 'mt_aa',\n",
      "       'wt_aa_1letter', 'mt_aa_1letter', 'wt_population', 'mt_population',\n",
      "       'wt_freq', 'mt_freq', 'class', 'MetaRNN_score', 'MVP_score',\n",
      "       'SIFT_score', 'Polyphen2_HVAR_score', 'CADD_raw', 'REVEL_score',\n",
      "       'integrated_fitCons_score', 'phyloP17way_primate',\n",
      "       'phastCons17way_primate', 'bStatistic', 'n_methods_having_preds',\n",
      "       'is_selected_prev'],\n",
      "      dtype='object')\n",
      "(35082, 37)\n",
      "#-rsids: 35059\n",
      "#-genes 9134\n",
      "#-refseq-prots: 9142\n",
      "#-seqs: 9142\n",
      "Common        9142\n",
      "Ultra-rare    9124\n",
      "Singleton     9119\n",
      "Rare          7697\n",
      "Name: class, dtype: int64\n",
      "esm_rives esm1b_t33_650M_UR50S (35082, 38) (35082, 38)\n",
      "esm_rives esm1v_t33_650M_UR90S (35082, 38) (35082, 39)\n",
      "esm_rives esm2_t33_650M_UR50D (35082, 38) (35082, 40)\n",
      "bioembeddings_dallago prottrans_bert_bfd (35082, 38) (35082, 41)\n",
      "bioembeddings_dallago prottrans_albert_bfd (35082, 38) (35082, 42)\n",
      "rostlab_huggingface prottrans_t5_xl_u50 (35082, 38) (35082, 43)\n",
      "vespa_marquet vespa (35080, 40) (35082, 46)\n",
      "proteinbert_brandes proteinbert (35082, 38) (35082, 47)\n",
      "sequnet_dunham sequnet (35035, 38) (35082, 48)\n",
      "(35082, 48)\n",
      "Index(['snp_id', 'gene_name', 'mane_refseq_prot', 'mane_refseq_nuc',\n",
      "       'mane_status', 'chrom_acc_version', 'chrom_num', 'source_ref_allele',\n",
      "       'source_alt_alleles', 'alfa_chrom_pos', 'alfa_ref_allele',\n",
      "       'alfa_alt_allele', 'alfa_alt_alleles', 'prot_variant',\n",
      "       'prot_acc_version', '1indexed_prot_mt_pos', 'wt_aa', 'mt_aa',\n",
      "       'wt_aa_1letter', 'mt_aa_1letter', 'wt_population', 'mt_population',\n",
      "       'wt_freq', 'mt_freq', 'class', 'metarnn', 'mvp', 'sift',\n",
      "       'polyphen2_HVAR', 'CADD_raw', 'revel', 'integrated_fitCons',\n",
      "       'phyloP17way_primate', 'phastCons17way_primate', 'bStatistic',\n",
      "       'n_methods_having_preds', 'is_selected_prev', 'esm1b_t33_650M_UR50S',\n",
      "       'esm1v_t33_650M_UR90S', 'esm2_t33_650M_UR50D', 'prottrans_bert_bfd',\n",
      "       'prottrans_albert_bfd', 'prottrans_t5_xl_u50', 'mut_real', 'vespa',\n",
      "       'vespal', 'proteinbert', 'sequnet'],\n",
      "      dtype='object')\n"
     ]
    }
   ],
   "source": [
    "# this block merges scores on popu-freq\n",
    "from models.aa_common.data_loader import get_popu_freq_dbnsfp_dataset\n",
    "merged_df, _ = get_popu_freq_dbnsfp_dataset(home_dir)\n",
    "\n",
    "task = \"popu_freq\"\n",
    "merge_on_col_list = list(merged_df.columns)\n",
    "merged_df = do_merge(merged_df, masked_llm_cols, merge_on_col_list, task, \"_masked\")\n",
    "# merged_df = do_merge(merged_df, embeddings_llm_cols, merge_on_col_list, task, \"_embed\")\n",
    "# merged_df = merge_conservation_df(merged_df, humprots_conservation_df)  \n",
    "merged_df.rename(columns=renamed_cols, inplace=True)\n",
    "\n",
    "print(merged_df.shape)\n",
    "print(merged_df.columns)\n",
    "# merged_df.to_csv(home_dir+f\"models/aa_common/merged_predictions/{task}.tsv\", sep=\"\\t\", index=False, header=True)"
   ]
  },
  {
   "cell_type": "code",
   "execution_count": 7,
   "metadata": {},
   "outputs": [
    {
     "name": "stdout",
     "output_type": "stream",
     "text": [
      "Index(['mut_id', 'md5', 'pmd_id', 'nr', 'prot_acc_version', 'snp_id',\n",
      "       'mut_real', 'wt', 'mut', 'prot_pos', 'chrom', 'chrom_pos', 'ref_allele',\n",
      "       'alt_allele', 'function', 'source', 'crossref', 'function_summarized',\n",
      "       'class', 'SIFT_score', 'Polyphen2_HVAR_score', 'MetaRNN_score',\n",
      "       'REVEL_score', 'MVP_score', 'CADD_raw_score',\n",
      "       'integrated_fitCons_score', 'phyloP17way_primate_score',\n",
      "       'phastCons17way_primate_score', 'bStatistic_score'],\n",
      "      dtype='object')\n",
      "(7179, 29)\n",
      "Effect       3818\n",
      "No-effect    1777\n",
      "Knock-out    1584\n",
      "Name: class, dtype: int64\n",
      "#-unique prots:  2056\n",
      "esm_rives esm1b_t33_650M_UR50S (7179, 30) (7179, 30)\n",
      "esm_rives esm1v_t33_650M_UR90S (7179, 30) (7179, 31)\n",
      "esm_rives esm2_t33_650M_UR50D (7179, 30) (7179, 32)\n",
      "bioembeddings_dallago prottrans_bert_bfd (7179, 30) (7179, 33)\n",
      "rostlab_huggingface prottrans_t5_xl_u50 (7179, 30) (7179, 34)\n",
      "vespa_marquet vespa (7179, 30) (7179, 35)\n",
      "proteinbert_brandes proteinbert (7179, 30) (7179, 36)\n",
      "sequnet_dunham sequnet (7178, 30) (7179, 37)\n",
      "tape_rao_1 protbert (7179, 30) (7179, 38)\n",
      "jax_unirep unirep (7179, 30) (7179, 39)\n",
      "(7179, 40)\n",
      "Index(['mut_id', 'md5', 'pmd_id', 'nr', 'prot_acc_version', 'snp_id',\n",
      "       'mut_real', 'wt', 'mut', 'prot_pos', 'chrom', 'chrom_pos', 'ref_allele',\n",
      "       'alt_allele', 'function', 'source', 'crossref', 'function_summarized',\n",
      "       'class', 'sift', 'polyphen2_HVAR', 'metarnn', 'revel', 'mvp',\n",
      "       'cadd_raw', 'integrated_fitCons', 'phyloP17way_primate',\n",
      "       'phastCons17way_primate', 'bStatistic', 'esm1b_t33_650M_UR50S',\n",
      "       'esm1v_t33_650M_UR90S', 'esm2_t33_650M_UR50D', 'prottrans_bert_bfd',\n",
      "       'prottrans_t5_xl_u50', 'vespa', 'proteinbert', 'sequnet', 'protbert',\n",
      "       'unirep', 'conservation'],\n",
      "      dtype='object')\n"
     ]
    }
   ],
   "source": [
    "# this block merges scores on PMD \n",
    "from models.aa_common.data_loader import get_pmd_dbnsfp_dataset\n",
    "merged_df, _ = get_pmd_dbnsfp_dataset(home_dir)\n",
    "\n",
    "task = \"pmd\"\n",
    "merge_on_col_list = list(merged_df.columns)\n",
    "merged_df = do_merge(merged_df, masked_llm_cols, merge_on_col_list, task,\"_masked\")\n",
    "merged_df = do_merge(merged_df, embeddings_llm_cols, merge_on_col_list, task, \"_embed\")\n",
    "# merged_df = merge_conservation_df(merged_df, pmd_conservation_df)  \n",
    "merged_df.rename(columns=renamed_cols, inplace=True)\n",
    "\n",
    "print(merged_df.shape)\n",
    "print(merged_df.columns)\n",
    "merged_df.to_csv(home_dir+f\"models/aa_common/merged_predictions/{task}.tsv\", sep=\"\\t\", index=False, header=True)"
   ]
  },
  {
   "cell_type": "code",
   "execution_count": 8,
   "metadata": {},
   "outputs": [
    {
     "name": "stdout",
     "output_type": "stream",
     "text": [
      "Index(['clinvar_id', 'gene_symbol', 'gene_id', 'snp_id', 'chrom_acc_version',\n",
      "       'chrom_pos', 'ref_allele', 'alt_allele', 'prot_acc_version', 'prot_pos',\n",
      "       'wt', 'mut', 'class', 'chrom', 'SIFT_score', 'Polyphen2_HVAR_score',\n",
      "       'MetaRNN_score', 'REVEL_score', 'MVP_score', 'CADD_raw_score',\n",
      "       'integrated_fitCons_score', 'phyloP17way_primate_score',\n",
      "       'phastCons17way_primate_score', 'bStatistic_score', 'wt_population',\n",
      "       'mut_poulation', 'wt_freq', 'mt_freq'],\n",
      "      dtype='object')\n",
      "(9472, 28)\n",
      "Likely-pathogenic    4162\n",
      "Pathogenic           2305\n",
      "Rare                 1983\n",
      "Common               1022\n",
      "Name: class, dtype: int64\n",
      "#-unique prots:  1430\n",
      "esm_rives esm1b_t33_650M_UR50S (9472, 29) (9472, 29)\n",
      "esm_rives esm1v_t33_650M_UR90S (9472, 29) (9472, 30)\n",
      "esm_rives esm2_t33_650M_UR50D (9472, 29) (9472, 31)\n",
      "bioembeddings_dallago prottrans_bert_bfd (9472, 29) (9472, 32)\n",
      "rostlab_huggingface prottrans_t5_xl_u50 (9472, 29) (9472, 33)\n",
      "vespa_marquet vespa (9472, 29) (9472, 34)\n",
      "proteinbert_brandes proteinbert (9472, 29) (9472, 35)\n",
      "sequnet_dunham sequnet (9460, 29) (9472, 36)\n",
      "tape_rao_1 protbert (9472, 29) (9472, 37)\n",
      "jax_unirep unirep (9472, 29) (9472, 38)\n",
      "(9472, 39)\n",
      "Index(['clinvar_id', 'gene_symbol', 'gene_id', 'snp_id', 'chrom_acc_version',\n",
      "       'chrom_pos', 'ref_allele', 'alt_allele', 'prot_acc_version', 'prot_pos',\n",
      "       'wt', 'mut', 'class', 'chrom', 'sift', 'polyphen2_HVAR', 'metarnn',\n",
      "       'revel', 'mvp', 'cadd_raw', 'integrated_fitCons', 'phyloP17way_primate',\n",
      "       'phastCons17way_primate', 'bStatistic', 'wt_population',\n",
      "       'mut_poulation', 'wt_freq', 'mt_freq', 'esm1b_t33_650M_UR50S',\n",
      "       'esm1v_t33_650M_UR90S', 'esm2_t33_650M_UR50D', 'prottrans_bert_bfd',\n",
      "       'prottrans_t5_xl_u50', 'vespa', 'proteinbert', 'sequnet', 'protbert',\n",
      "       'unirep', 'conservation'],\n",
      "      dtype='object')\n"
     ]
    }
   ],
   "source": [
    "# this block merges scores on patho \n",
    "from models.aa_common.data_loader import get_patho_likelypatho_neutral_dbnsfp_dataset\n",
    "merged_df, _ = get_patho_likelypatho_neutral_dbnsfp_dataset(home_dir)\n",
    "\n",
    "task = \"patho\"\n",
    "merge_on_col_list = list(merged_df.columns)\n",
    "merged_df = do_merge(merged_df, masked_llm_cols, merge_on_col_list, task,\"_masked\")\n",
    "merged_df = do_merge(merged_df, embeddings_llm_cols, merge_on_col_list, task, \"_embed\")\n",
    "# merged_df = merge_conservation_df(merged_df, humprots_conservation_df)  \n",
    "merged_df.rename(columns=renamed_cols, inplace=True)\n",
    "\n",
    "print(merged_df.shape)\n",
    "print(merged_df.columns)\n",
    "merged_df.to_csv(home_dir+f\"models/aa_common/merged_predictions/{task}.tsv\", sep=\"\\t\", index=False, header=True)\n",
    "# merged_df[\"esm1b_t33_650M_UR50S\"]"
   ]
  }
 ],
 "metadata": {
  "kernelspec": {
   "display_name": "hopper_variant_effect_analysis_mine",
   "language": "python",
   "name": "python3"
  },
  "language_info": {
   "codemirror_mode": {
    "name": "ipython",
    "version": 3
   },
   "file_extension": ".py",
   "mimetype": "text/x-python",
   "name": "python",
   "nbconvert_exporter": "python",
   "pygments_lexer": "ipython3",
   "version": "3.8.6"
  },
  "orig_nbformat": 4
 },
 "nbformat": 4,
 "nbformat_minor": 2
}
