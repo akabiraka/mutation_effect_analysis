{
 "cells": [
  {
   "cell_type": "code",
   "execution_count": 1,
   "metadata": {},
   "outputs": [],
   "source": [
    "import os\n",
    "import sys\n",
    "home_dir = \"../../\"\n",
    "module_path = os.path.abspath(os.path.join(home_dir))\n",
    "if module_path not in sys.path:\n",
    "    sys.path.append(module_path)\n",
    "\n",
    "import numpy as np\n",
    "import pandas as pd"
   ]
  },
  {
   "cell_type": "code",
   "execution_count": 32,
   "metadata": {},
   "outputs": [],
   "source": [
    "def compute_variant_counts_for_each_npids(cls_labeled_variants_short_df, classes):\n",
    "    prots = cls_labeled_variants_short_df[\"prot_acc_version\"].unique()\n",
    "    merged_df = pd.DataFrame(prots, columns=[\"prot_acc_version\"])\n",
    "    for cls_name in classes:\n",
    "        df = cls_labeled_variants_short_df[cls_labeled_variants_short_df[\"class\"]==cls_name].copy()\n",
    "        grouped = df.groupby([\"prot_acc_version\"])[\"class\"].count().reset_index(name=\"count\")\n",
    "        grouped.rename(columns={\"count\": cls_name}, inplace=True)\n",
    "\n",
    "        merged_df = pd.merge(left=merged_df, right=grouped, how=\"left\", on=\"prot_acc_version\")\n",
    "\n",
    "    return merged_df"
   ]
  },
  {
   "cell_type": "code",
   "execution_count": 33,
   "metadata": {},
   "outputs": [
    {
     "name": "stdout",
     "output_type": "stream",
     "text": [
      "  prot_acc_version  Common  Rare  Ultra-rare  Singleton\n",
      "0      NP_066957.3     4.0   2.0        16.0       11.0\n",
      "1      NP_005333.2     NaN   NaN         4.0        2.0\n",
      "2   NP_001293073.1     NaN   1.0        16.0       19.0\n",
      "3      NP_000243.1     NaN   NaN        14.0       18.0\n",
      "4      NP_005482.2     2.0   3.0        27.0       26.0\n"
     ]
    }
   ],
   "source": [
    "cls_labeled_variants_short_df = pd.read_csv(home_dir+\"data/datasets_popu_freq_temp/cls_labeled_variants_short.tsv\", sep=\"\\t\")\n",
    "classes = [\"Common\", \"Rare\", \"Ultra-rare\", \"Singleton\"]\n",
    "\n",
    "merged_df = compute_variant_counts_for_each_npids(cls_labeled_variants_short_df, classes)\n",
    "print(merged_df.head())\n",
    "merged_df.to_csv(home_dir+\"data/npids_with_var_counts/popu_freq.tsv\", sep=\"\\t\", index=False)"
   ]
  },
  {
   "cell_type": "code",
   "execution_count": 34,
   "metadata": {},
   "outputs": [
    {
     "name": "stdout",
     "output_type": "stream",
     "text": [
      "  prot_acc_version  Pathogenic  Likely-pathogenic  Common  Rare\n",
      "0   NP_001381642.1         1.0                NaN     5.0   5.0\n",
      "1      NP_542172.2         2.0                NaN     1.0   3.0\n",
      "2      NP_060341.2         5.0                NaN     NaN   NaN\n",
      "3   NP_001164006.1         1.0                2.0     3.0   9.0\n",
      "4      NP_002065.1         2.0                5.0     NaN   NaN\n"
     ]
    }
   ],
   "source": [
    "cls_labeled_variants_short_df = pd.read_csv(home_dir+f\"data/datasets_patho/patho_likelypatho_neutral_dbnsfp.tsv\", sep=\"\\t\")\n",
    "classes = [\"Pathogenic\", \"Likely-pathogenic\", \"Common\", \"Rare\"]\n",
    "\n",
    "merged_df = compute_variant_counts_for_each_npids(cls_labeled_variants_short_df, classes)\n",
    "print(merged_df.head())\n",
    "merged_df.to_csv(home_dir+\"data/npids_with_var_counts/patho.tsv\", sep=\"\\t\", index=False)"
   ]
  }
 ],
 "metadata": {
  "kernelspec": {
   "display_name": "hopper_variant_effect_analysis_mine",
   "language": "python",
   "name": "python3"
  },
  "language_info": {
   "codemirror_mode": {
    "name": "ipython",
    "version": 3
   },
   "file_extension": ".py",
   "mimetype": "text/x-python",
   "name": "python",
   "nbconvert_exporter": "python",
   "pygments_lexer": "ipython3",
   "version": "3.8.6"
  },
  "orig_nbformat": 4
 },
 "nbformat": 4,
 "nbformat_minor": 2
}
