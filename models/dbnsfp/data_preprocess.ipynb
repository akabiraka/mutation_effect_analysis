{
 "cells": [
  {
   "cell_type": "code",
   "execution_count": 7,
   "metadata": {},
   "outputs": [],
   "source": [
    "import os\n",
    "import sys\n",
    "home_dir = \"../../\"\n",
    "module_path = os.path.abspath(os.path.join(home_dir))\n",
    "if module_path not in sys.path:\n",
    "    sys.path.append(module_path)\n",
    "\n",
    "import pandas as pd"
   ]
  },
  {
   "cell_type": "code",
   "execution_count": 3,
   "metadata": {},
   "outputs": [],
   "source": [
    "# Notes:\n",
    "# Chromosom number 23 and 24 must be as in X and Y format for dbnsfp"
   ]
  },
  {
   "cell_type": "code",
   "execution_count": 10,
   "metadata": {},
   "outputs": [
    {
     "name": "stdout",
     "output_type": "stream",
     "text": [
      "\n",
      "Log: Loading base-popu-freq data ...\n",
      "Index(['snp_id', 'gene_name', 'mane_refseq_prot', 'mane_refseq_nuc',\n",
      "       'mane_status', 'chrom_acc_version', 'chrom_num', 'source_ref_allele',\n",
      "       'source_alt_alleles', 'alfa_chrom_pos', 'alfa_ref_allele',\n",
      "       'alfa_alt_allele', 'alfa_alt_alleles', 'prot_variant',\n",
      "       'prot_acc_version', '1indexed_prot_mt_pos', 'wt_aa', 'mt_aa',\n",
      "       'wt_aa_1letter', 'mt_aa_1letter', 'wt_population', 'mt_population',\n",
      "       'wt_freq', 'mt_freq', 'class'],\n",
      "      dtype='object')\n",
      "total:  (1052676, 25)\n",
      "#-unique_rsids: 1034905\n",
      "#-unique_genes: 16640\n",
      "#-unique_NP_ids: 16671\n",
      "Singleton     590841\n",
      "Ultra-rare    397925\n",
      "Rare           37702\n",
      "Common         26208\n",
      "Name: class, dtype: int64\n",
      "#-of unique chromosomal variants:  1049610\n",
      "1              109497\n",
      "19              92372\n",
      "11              73557\n",
      "2               64110\n",
      "17              62869\n",
      "3               57732\n",
      "12              52389\n",
      "6               52317\n",
      "16              51471\n",
      "7               50161\n",
      "5               48761\n",
      "9               39999\n",
      "4               39902\n",
      "10              39491\n",
      "8               36198\n",
      "15              30729\n",
      "14              30639\n",
      "20              29686\n",
      "22              26083\n",
      "X               18792\n",
      "13              16039\n",
      "18              14262\n",
      "21              11272\n",
      "Y                1276\n",
      "NT_187606.1         5\n",
      "NT_187633.1         1\n",
      "Name: chrom_num, dtype: int64\n"
     ]
    }
   ],
   "source": [
    "# preprocessing for popu-freq\n",
    "from models.aa_common.data_loader import get_popu_freq_SNVs\n",
    "task = \"popu_freq\"\n",
    "variants_df = get_popu_freq_SNVs(home_dir)\n",
    "\n",
    "# variants_df.loc[variants_df[\"chrom_num\"]==23, \"chrom_num\"] = \"X\"\n",
    "# variants_df.loc[variants_df[\"chrom_num\"]==24, \"chrom_num\"] = \"Y\"\n",
    "\n",
    "chromosomal_variants = variants_df[[\"chrom_num\", \"alfa_chrom_pos\", \"alfa_ref_allele\", \"alfa_alt_allele\"]].drop_duplicates(keep=\"first\", ignore_index=True)\n",
    "print(\"#-of unique chromosomal variants: \", chromosomal_variants.shape[0])\n",
    "print(chromosomal_variants[\"chrom_num\"].value_counts())\n",
    "# chromosomal_variants.to_csv(home_dir+f\"models/dbnsfp/datasets/{task}.ssv\", index=False, sep=\" \", header=False)"
   ]
  },
  {
   "cell_type": "code",
   "execution_count": 12,
   "metadata": {},
   "outputs": [
    {
     "name": "stdout",
     "output_type": "stream",
     "text": [
      "\n",
      "Log: Loading base-patho data ...\n",
      "Index(['clinvar_id', 'gene_name', 'gene_id', 'snp_id', 'mrna_acc_version',\n",
      "       'mrna_gi', 'prot_variant', 'prot_acc_version', '1indexed_prot_mt_pos',\n",
      "       'wt_aa', 'mt_aa', 'wt_aa_1letter', 'mt_aa_1letter', 'chrom_variant',\n",
      "       'chrom_acc_version', 'chrom_num', 'chrom_pos', 'ref_allele',\n",
      "       'alt_allele', 'class'],\n",
      "      dtype='object')\n",
      "total:  (7332, 20)\n",
      "#-unique_clinvarids: 7328\n",
      "#-unique_rsids: 300\n",
      "#-unique_genes: 1599\n",
      "#-unique_NP_ids: 1603\n",
      "Likely-pathogenic    4818\n",
      "Pathogenic           2514\n",
      "Name: class, dtype: int64\n",
      "#-of unique chromosomal variants:  7331\n",
      "X     814\n",
      "1     732\n",
      "11    518\n",
      "2     451\n",
      "3     427\n",
      "17    424\n",
      "19    418\n",
      "12    351\n",
      "7     343\n",
      "6     321\n",
      "9     313\n",
      "16    296\n",
      "5     290\n",
      "4     235\n",
      "14    219\n",
      "10    216\n",
      "8     194\n",
      "20    194\n",
      "15    173\n",
      "22    120\n",
      "21    107\n",
      "13    101\n",
      "18     66\n",
      "Y       8\n",
      "Name: chrom_num, dtype: int64\n"
     ]
    }
   ],
   "source": [
    "# preprocessing for pathogenicity \n",
    "from models.aa_common.data_loader import get_patho_and_likelypatho_SNVs\n",
    "\n",
    "task = \"patho_and_likelypatho\"\n",
    "variants_df = get_patho_and_likelypatho_SNVs(home_dir)\n",
    "\n",
    "chromosomal_variants = variants_df[[\"chrom_num\", \"chrom_pos\", \"ref_allele\", \"alt_allele\"]].drop_duplicates(keep=\"first\", ignore_index=True)\n",
    "print(\"#-of unique chromosomal variants: \", chromosomal_variants.shape[0])\n",
    "print(chromosomal_variants[\"chrom_num\"].value_counts())\n",
    "chromosomal_variants.to_csv(home_dir+f\"models/dbnsfp/datasets/{task}.ssv\", index=False, sep=\" \", header=False)"
   ]
  },
  {
   "cell_type": "code",
   "execution_count": 3,
   "metadata": {},
   "outputs": [
    {
     "name": "stdout",
     "output_type": "stream",
     "text": [
      "\n",
      "Log: Loading Protein Mutation Dataset (PMD) ...\n",
      "Index(['mut_id', 'md5', 'pmd_id', 'nr', 'mut_real', 'chrom', 'chrom_pos',\n",
      "       'ref_allele', 'alt_allele', 'function', 'source', 'crossref', 'snp_id',\n",
      "       'CADD_raw', 'MetaRNN_score', 'MVP_score', 'Polyphen2_HVAR_score',\n",
      "       'REVEL_score', 'SIFT_score', 'integrated_fitCons_score',\n",
      "       'phyloP17way_primate', 'phastCons17way_primate', 'bStatistic', 'seq',\n",
      "       'wt', 'mut', 'prot_pos', 'function_summarized', 'functional_effect',\n",
      "       'pmd_nr_id'],\n",
      "      dtype='object')\n",
      "Effect       4633\n",
      "Knock-out    1981\n",
      "No-effect    1968\n",
      "Name: functional_effect, dtype: int64\n",
      "(8582, 30)\n",
      "Log: saving chromosomal variants...\n"
     ]
    }
   ],
   "source": [
    "# preprocessing for pmd\n",
    "from models.aa_common.data_loader import get_pmd_dataset\n",
    "\n",
    "task=\"pmd\"\n",
    "variants_df = get_pmd_dataset(home_dir)\n",
    "\n",
    "variants_df[\"chrom_pos\"] = variants_df[\"chrom_pos\"].apply(lambda x: str(int(x))) # taking only chromosom number for dbNSFP inputs\n",
    "variants_df.loc[variants_df[\"chrom\"]==23, \"chrom\"] = \"X\"\n",
    "variants_df.loc[variants_df[\"chrom\"]==24, \"chrom\"] = \"Y\"\n",
    "\n",
    "print(\"Log: saving chromosomal variants...\")\n",
    "chromosomal_variants = variants_df[[\"chrom\", \"chrom_pos\", \"ref_allele\", \"alt_allele\"]].drop_duplicates(keep=\"first\", ignore_index=True)\n",
    "print(\"#-of unique chromosomal variants: \", chromosomal_variants.shape[0])\n",
    "chromosomal_variants.to_csv(home_dir+f\"models/dbnsfp/datasets/{task}.txt\", index=False, sep=\" \", header=False)"
   ]
  }
 ],
 "metadata": {
  "kernelspec": {
   "display_name": "hopper_variant_effect_analysis_mine",
   "language": "python",
   "name": "python3"
  },
  "language_info": {
   "codemirror_mode": {
    "name": "ipython",
    "version": 3
   },
   "file_extension": ".py",
   "mimetype": "text/x-python",
   "name": "python",
   "nbconvert_exporter": "python",
   "pygments_lexer": "ipython3",
   "version": "3.8.6"
  },
  "orig_nbformat": 4
 },
 "nbformat": 4,
 "nbformat_minor": 2
}
